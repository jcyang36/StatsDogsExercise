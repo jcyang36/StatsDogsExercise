{
 "cells": [
  {
   "cell_type": "markdown",
   "metadata": {},
   "source": [
    "# Standard Deviation Dogs\n",
    "The Standard Deviation is a measure of how spread out numbers are.\n",
    "\n",
    "Its symbol is **σ** (the greek letter sigma)\n",
    "\n",
    "The formula is easy: it is the **square root** of the **Variance**. So now you ask, \"What is the Variance?\""
   ]
  },
  {
   "cell_type": "markdown",
   "metadata": {},
   "source": [
    "# Variance\n",
    "\n",
    "The Variance is defined as:\n",
    "\n",
    "The average of the **squared** differences from the Mean."
   ]
  },
  {
   "cell_type": "markdown",
   "metadata": {},
   "source": [
    "To calculate the variance follow these steps:\n",
    "\n",
    "- Work out the Mean (the simple average of the numbers)\n",
    "- Then for each number: subtract the Mean and square the result (the squared difference).\n",
    "- Then work out the average of those squared differences."
   ]
  },
  {
   "cell_type": "markdown",
   "metadata": {},
   "source": [
    "# Exercise\n",
    "\n",
    "![Cameron's Best Friend](https://res.cloudinary.com/dkoqxjnsr/image/upload/v1558619635/w9ingxrc6oxvf58bkost.jpg)\n",
    "\n",
    "![lock](https://res.cloudinary.com/dkoqxjnsr/image/upload/v1560368042/lock_and_key_mli435.png)\n",
    "\n",
    "<img src=\"https://res.cloudinary.com/dkoqxjnsr/image/upload/v1560368042/lock_and_key_mli435.png\" alt=\"lock picture\">\n",
    "\n",
    "You and your friends have just measured the heights of your dogs (in millimeters):\n",
    "    \n",
    "![Dogs Graph](statistics-dogs-graph.gif)\n",
    "\n",
    "The heights (at the shoulders) are: 600mm, 470mm, 170mm, 430mm and 300mm.\n",
    "\n",
    "Find out the Mean, the Variance, and the Standard Deviation.\n",
    "\n",
    "Your first step is to find the Mean:"
   ]
  },
  {
   "cell_type": "code",
   "execution_count": 1,
   "metadata": {},
   "outputs": [],
   "source": [
    "heights = [600, 470, 170, 430, 300]"
   ]
  },
  {
   "cell_type": "code",
   "execution_count": 6,
   "metadata": {},
   "outputs": [],
   "source": [
    "mean=sum(heights)/len(heights)"
   ]
  },
  {
   "cell_type": "code",
   "execution_count": 7,
   "metadata": {},
   "outputs": [
    {
     "name": "stdout",
     "output_type": "stream",
     "text": [
      "Average is 394.0\n"
     ]
    }
   ],
   "source": [
    "print(\"Average is \"+str(sum(heights)/len(heights)))"
   ]
  },
  {
   "cell_type": "markdown",
   "metadata": {},
   "source": [
    "... so the mean (average) height is **???** mm. Let's plot this on the chart:\n",
    "\n",
    "![Dogs Mean](statistics-dogs-mean.gif)\n",
    "\n",
    "Now we calculate each dog's difference from the Mean:\n",
    "\n",
    "![Dogs Deviation](statistics-dogs-deviation.gif)\n",
    "\n",
    "To calculate the Variance, take each difference, square it, and then average the result:"
   ]
  },
  {
   "cell_type": "code",
   "execution_count": 20,
   "metadata": {},
   "outputs": [],
   "source": [
    "squareDiffSum=0\n",
    "for val in heights: \n",
    "    diff=val-mean\n",
    "    squareDiff=diff**2\n",
    "    squareDiffSum+=squareDiff\n",
    "variance=squareDiffSum/(len(heights))"
   ]
  },
  {
   "cell_type": "code",
   "execution_count": 21,
   "metadata": {},
   "outputs": [
    {
     "name": "stdout",
     "output_type": "stream",
     "text": [
      "The variance is: 21704.0\n"
     ]
    }
   ],
   "source": [
    "print(\"The variance is: \"+str(variance))"
   ]
  },
  {
   "cell_type": "markdown",
   "metadata": {},
   "source": [
    "So the Variance is **???**\n",
    "\n",
    "And the Standard Deviation is just the square root of Variance, so:"
   ]
  },
  {
   "cell_type": "code",
   "execution_count": 22,
   "metadata": {},
   "outputs": [],
   "source": [
    "std=variance**0.5"
   ]
  },
  {
   "cell_type": "code",
   "execution_count": 23,
   "metadata": {},
   "outputs": [
    {
     "name": "stdout",
     "output_type": "stream",
     "text": [
      "The standard deviation is: 147.32277488562318\n"
     ]
    }
   ],
   "source": [
    "print(\"The standard deviation is: \"+str(std))"
   ]
  },
  {
   "cell_type": "markdown",
   "metadata": {},
   "source": [
    "And the good thing about the Standard Deviation is that it is useful. Now we can show which heights are within one Standard Deviation (**???**mm) of the Mean:"
   ]
  },
  {
   "cell_type": "markdown",
   "metadata": {},
   "source": [
    "![Dogs Standard Deviation](statistics-standard-deviation.gif)\n",
    "\n",
    "So, using the Standard Deviation we have a \"standard\" way of knowing what is normal, and what is extra large or extra small.\n",
    "\n",
    "Rottweilers are tall dogs. And Dachshunds are a bit short ... but don't tell them!"
   ]
  },
  {
   "cell_type": "code",
   "execution_count": null,
   "metadata": {},
   "outputs": [],
   "source": []
  },
  {
   "cell_type": "markdown",
   "metadata": {},
   "source": [
    "## Bibliography:\n",
    "\n",
    "[SD at Math Is Fun](https://www.mathsisfun.com/data/standard-deviation.html)"
   ]
  },
  {
   "cell_type": "code",
   "execution_count": null,
   "metadata": {},
   "outputs": [],
   "source": []
  }
 ],
 "metadata": {
  "kernelspec": {
   "display_name": "Python 3",
   "language": "python",
   "name": "python3"
  },
  "language_info": {
   "codemirror_mode": {
    "name": "ipython",
    "version": 3
   },
   "file_extension": ".py",
   "mimetype": "text/x-python",
   "name": "python",
   "nbconvert_exporter": "python",
   "pygments_lexer": "ipython3",
   "version": "3.7.3"
  }
 },
 "nbformat": 4,
 "nbformat_minor": 2
}
